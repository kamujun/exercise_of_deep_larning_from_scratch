{
 "cells": [
  {
   "cell_type": "markdown",
   "metadata": {
    "collapsed": true
   },
   "source": [
    "# 2章 パーセプトロン\n"
   ]
  },
  {
   "cell_type": "markdown",
   "metadata": {},
   "source": [
    "## 2.1 パーセプトロンとは\n",
    "\n",
    "xは入力信号、yは出力信号、wは重みを表す。  \n",
    "ニューロンの発火する限界値を閾値(θ)とする。\n",
    "\n",
    "$$\n",
    "x\n",
    "= \\begin{cases}\n",
    " & \\ 0 \\; (w_{1}x_{1} + w_{1}x_{2} \\leq \\theta) \\\\\n",
    " & \\ 1 \\; (w_{1}x_{1} + w_{1}x_{2} > \\theta)\n",
    "\\end{cases}\n",
    "$$\n"
   ]
  },
  {
   "cell_type": "markdown",
   "metadata": {},
   "source": [
    "## 2.2 単純な論理回路\n",
    "\n",
    "### 2.2.1 ANDゲート\n",
    "### 2.2.1 NANDゲートとORゲート\n",
    "\n",
    "ORゲートについては一例として以下のように表せる。\n",
    "\n",
    "$$\n",
    "(w_{1},w_{1},\\theta) = (0.5,0.5,0.3)\n",
    "$$\n",
    "\n",
    "ANDもNANDもORも同じモデル(式)でパラメータを変更するだけで表現出来る。\n",
    "\n",
    "ここでは人間がパラメータを考えたが、機械学習ではパラメータの値を決める作業をコンピュータに自動で行わせる。学習=適切なパラメータを決める作業。\n"
   ]
  },
  {
   "cell_type": "markdown",
   "metadata": {},
   "source": [
    "## 2.3 パーセプトロンの実装\n",
    "\n",
    "### 2.3.1 簡単な実装\n"
   ]
  },
  {
   "cell_type": "code",
   "execution_count": 3,
   "metadata": {},
   "outputs": [
    {
     "name": "stdout",
     "output_type": "stream",
     "text": [
      "0\n0\n0\n1\n"
     ]
    }
   ],
   "source": [
    "# ANDの実装\n",
    "def func_AND(x1, x2):\n",
    "    w1, w2, theta = 0.5, 0.5, 0.7\n",
    "    tmp = x1*w1 + x2*w2\n",
    "    if tmp <= theta:\n",
    "        return 0\n",
    "    elif tmp > theta:\n",
    "        return 1\n",
    "    \n",
    "print(func_AND(0, 0))\n",
    "print(func_AND(1, 0))\n",
    "print(func_AND(0, 1))\n",
    "print(func_AND(1, 1))"
   ]
  },
  {
   "cell_type": "markdown",
   "metadata": {},
   "source": [
    "### 2.3.2 重みとバイアスの導入\n",
    "\n",
    "θを-bとして式変形を行なう。bはバイアス。\n",
    "\n",
    "$$\n",
    "x\n",
    "= \\begin{cases}\n",
    " & \\ 0 \\; (b + w_{1}x_{1} + w_{1}x_{2} \\leq 0) \\\\\n",
    " & \\ 1 \\; (b + w_{1}x_{1} + w_{1}x_{2} > 0)\n",
    "\\end{cases}\n",
    "$$"
   ]
  },
  {
   "cell_type": "code",
   "execution_count": 4,
   "metadata": {},
   "outputs": [
    {
     "name": "stdout",
     "output_type": "stream",
     "text": [
      "[ 0.   0.5]\n0.5\n-0.2\n"
     ]
    }
   ],
   "source": [
    "import numpy as np\n",
    "x = np.array([0, 1])\n",
    "w = np.array([0.5, 0.5])\n",
    "b = -0.7\n",
    "\n",
    "print(w*x)\n",
    "print(np.sum(w*x))\n",
    "print(np.sum(w*x)+b)"
   ]
  },
  {
   "cell_type": "markdown",
   "metadata": {},
   "source": [
    "### 2.3.3 重みとバイアスによる実装\n",
    "以下では-θをバイアスbと命名した。  \n",
    "文脈によっては重みもバイアスも含めてパラメータを「重み」と呼ぶ場合がある。\n"
   ]
  },
  {
   "cell_type": "code",
   "execution_count": 5,
   "metadata": {},
   "outputs": [],
   "source": [
    "# ANDゲートを実装\n",
    "def AND(x1, x2):\n",
    "    x = np.array([x1, x2])\n",
    "    w = np.array([0.5, 0.5])\n",
    "    b = -0.7\n",
    "    tmp = np.sum(w*x) + b\n",
    "    if tmp <= 0:\n",
    "        return 0\n",
    "    else:\n",
    "        return 1"
   ]
  },
  {
   "cell_type": "code",
   "execution_count": 6,
   "metadata": {},
   "outputs": [],
   "source": [
    "# NANDゲートを実装\n",
    "def NAND(x1, x2):\n",
    "    x = np.array([x1, x2])\n",
    "    w = np.array([-0.5, -0.5]) # 重みとバイアスだけがANDと違う\n",
    "    b = 0.7\n",
    "    tmp = np.sum(w*x) + b\n",
    "    if tmp <= 0:\n",
    "        return 0\n",
    "    else:\n",
    "        return 1"
   ]
  },
  {
   "cell_type": "code",
   "execution_count": 7,
   "metadata": {},
   "outputs": [],
   "source": [
    "# ORゲートを実装\n",
    "def OR(x1, x2):\n",
    "    x = np.array([x1, x2])\n",
    "    w = np.array([0.5, 0.5]) # 重みとバイアスだけがANDと違う\n",
    "    b = -0.2\n",
    "    tmp = np.sum(w*x) + b\n",
    "    if tmp <= 0:\n",
    "        return 0\n",
    "    else:\n",
    "        return 1"
   ]
  },
  {
   "cell_type": "markdown",
   "metadata": {},
   "source": [
    "## 2.4 パーセプトロンの限界\n",
    "\n",
    "### 2.4.1 XORゲート\n",
    "排他的論理和の場合、これまでのパーセプトロンでは実装できない。\n",
    "\n",
    "ORゲートについて考える。\n",
    "重みパラメータは$(b,w_{1},w_{2})=(-0.5,1.0,1.0)$の場合、パーセプトロンは以下式となる。\n",
    "$$\n",
    "x\n",
    "= \\begin{cases}\n",
    " & \\ 0 \\; (-0.5 + x_{1} + x_{2} \\leq 0) \\\\\n",
    " & \\ 1 \\; (-0.5 + x_{1} + x_{2} > 0)\n",
    "\\end{cases}\n",
    "$$\n",
    "\n",
    "パーセプトロンの発火有無であるyの値は直線によって0か1の境界を表すことができる。(グラフ中赤直線)\n"
   ]
  },
  {
   "cell_type": "code",
   "execution_count": 8,
   "metadata": {
    "collapsed": false
   },
   "outputs": [
    {
     "name": "stderr",
     "output_type": "stream",
     "text": [
      "/Users/smap3/PycharmProjects/exercise_of_deep_larning_from_scratch/env/lib/python3.6/site-packages/matplotlib/font_manager.py:1297: UserWarning: findfont: Font family ['IPAexGothic'] not found. Falling back to DejaVu Sans\n  (prop.get_family(), self.defaultFamily[fontext]))\n"
     ]
    },
    {
     "data": {
      "image/png": "[encoded data removed]",
      "text/plain": [
       "<matplotlib.figure.Figure at 0x102d2b9b0>"
      ]
     },
     "metadata": {},
     "output_type": "display_data"
    }
   ],
   "source": [
    "import numpy as np\n",
    "import matplotlib.pyplot as plt\n",
    "\n",
    "# グラフx軸、y軸の表示\n",
    "fig, ax = plt.subplots()\n",
    "#-- Set axis spines at 0\n",
    "for spine in ['left', 'bottom']:\n",
    "    ax.spines[spine].set_position('zero')\n",
    "\n",
    "# Hide the other spines...\n",
    "for spine in ['right', 'top']:\n",
    "    ax.spines[spine].set_color('none')\n",
    "\n",
    "#-- Decorate the spins\n",
    "arrow_length = 20 # In points\n",
    "\n",
    "# X-axis arrow\n",
    "ax.annotate('X1', xy=(1, 0), xycoords=('axes fraction', 'data'), \n",
    "            xytext=(arrow_length, 0), textcoords='offset points',\n",
    "            ha='left', va='center',\n",
    "            arrowprops=dict(arrowstyle='<|-', fc='black'))\n",
    "\n",
    "# Y-axis arrow\n",
    "ax.annotate('X2', xy=(0, 1), xycoords=('data', 'axes fraction'), \n",
    "            xytext=(0, arrow_length), textcoords='offset points',\n",
    "            ha='center', va='bottom',\n",
    "            arrowprops=dict(arrowstyle='<|-', fc='black'))\n",
    "\n",
    "#-- Plot\n",
    "ax.axis([-1, 2, -0.5, 2])\n",
    "ax.grid()\n",
    "\n",
    "\n",
    "# y=0となる組み合わせ\n",
    "x1_circle = [0]\n",
    "x2_circle = [0]\n",
    "\n",
    "# y=1となる組み合わせ\n",
    "x1_triangle = [0, 1, 1]\n",
    "x2_triangle = [1, 0, 1]\n",
    "\n",
    "# yにおける0と1が求められるの領域\n",
    "x1 = np.linspace(-2,3,4)\n",
    "x2 = 0.5 - x1\n",
    "\n",
    "# プロット\n",
    "plt.plot(x1_circle, x2_circle, 'o')\n",
    "plt.plot(x1_triangle, x2_triangle, '^')\n",
    "plt.plot(x1, x2, 'r-')\n",
    "\n",
    "\n",
    "plt.show()"
   ]
  },
  {
   "cell_type": "markdown",
   "metadata": {},
   "source": [
    "### 2.4.2 線形と非線形\n",
    "ORゲートは直線によってyの境界を表すことができた。これは線形な領域と言う。\n",
    "\n",
    "一方XORゲートの場合は以下のようにプロットされる。直線によって境界を表すことができないため、曲線で領域を区切る必要がある。これを非線形な領域と言う。\n"
   ]
  },
  {
   "cell_type": "code",
   "execution_count": 9,
   "metadata": {
    "collapsed": false
   },
   "outputs": [
    {
     "name": "stderr",
     "output_type": "stream",
     "text": [
      "/Users/smap3/PycharmProjects/exercise_of_deep_larning_from_scratch/env/lib/python3.6/site-packages/matplotlib/font_manager.py:1297: UserWarning: findfont: Font family ['IPAexGothic'] not found. Falling back to DejaVu Sans\n  (prop.get_family(), self.defaultFamily[fontext]))\n"
     ]
    },
    {
     "data": {
      "image/png": "[encoded data removed]",
      "text/plain": [
       "<matplotlib.figure.Figure at 0x102538ac8>"
      ]
     },
     "metadata": {},
     "output_type": "display_data"
    }
   ],
   "source": [
    "import matplotlib.pyplot as plt\n",
    "from matplotlib.image import imread\n",
    "\n",
    "img = imread('../docs/XOR.png')\n",
    "plt.figure(figsize=(8,5))\n",
    "plt.imshow(img)\n",
    "\n",
    "plt.show()"
   ]
  },
  {
   "cell_type": "markdown",
   "metadata": {},
   "source": [
    "## 2.5 多層パーセプトロン\n",
    "\n",
    "パーセプトロンではXORゲートは表現できなかった。\n",
    "しかし、パーセプトロンを多層に重ねることによって表現可能になる。\n",
    "\n",
    "### 2.5.1 既存ゲートの組み合わせ\n",
    "XORはゲートを重ねることによって求めることができる。  \n",
    "XOR = AND( NAND(x1,x2), OR(x1,x2) )\n"
   ]
  },
  {
   "cell_type": "code",
   "execution_count": 10,
   "metadata": {},
   "outputs": [
    {
     "name": "stdout",
     "output_type": "stream",
     "text": [
      "0\n1\n1\n0\n"
     ]
    }
   ],
   "source": [
    "# 2.5.2 XORゲートの実装\n",
    "\n",
    "def XOR(x1, x2):\n",
    "    s1 = NAND(x1, x2)\n",
    "    s2 = OR(x1, x2)\n",
    "    y = AND(s1, s2)\n",
    "    return y\n",
    "\n",
    "print(XOR(0, 0))\n",
    "print(XOR(1, 0))\n",
    "print(XOR(0, 1))\n",
    "print(XOR(1, 1))"
   ]
  },
  {
   "cell_type": "markdown",
   "metadata": {},
   "source": [
    "XORは2層のパーセプトロンで表現できた。(文献によっては3層とも呼ぶ場合がある。)\n",
    "層を重ねたパーセプトロンは多層パーセプトロン(multi-layered perceptron)と呼ばれる。\n",
    "\n",
    "ネットワーク図は以下のようになる。\n",
    "左から第0層、第1層、第2層となる。"
   ]
  },
  {
   "cell_type": "code",
   "execution_count": 27,
   "metadata": {},
   "outputs": [
    {
     "name": "stderr",
     "output_type": "stream",
     "text": [
      "/Users/smap3/PycharmProjects/exercise_of_deep_larning_from_scratch/env/lib/python3.6/site-packages/matplotlib/font_manager.py:1297: UserWarning: findfont: Font family ['IPAexGothic'] not found. Falling back to DejaVu Sans\n  (prop.get_family(), self.defaultFamily[fontext]))\n"
     ]
    },
    {
     "data": {
      "image/png": "[encoded data removed]",
      "text/plain": [
       "<matplotlib.figure.Figure at 0x1045419b0>"
      ]
     },
     "metadata": {},
     "output_type": "display_data"
    }
   ],
   "source": [
    "from graphviz import Digraph\n",
    "\n",
    "f = Digraph(format=\"png\")\n",
    "f.attr(rankdir='LR', size='8,5')\n",
    "\n",
    "f.attr('node', shape='circle')\n",
    "f.edge('x1', 's1')\n",
    "f.edge('x1', 's2')\n",
    "f.edge('x2', 's1')\n",
    "f.edge('x2', 's2')\n",
    "f.edge('s1', 'y')\n",
    "f.edge('s2', 'y')\n",
    "\n",
    "f.render(\"../docs/XOR_Perceptron\")\n",
    "\n",
    "img = imread('../docs/XOR_Perceptron.png')\n",
    "plt.figure(figsize=(10,8))\n",
    "plt.imshow(img)\n",
    "\n",
    "plt.show()"
   ]
  },
  {
   "cell_type": "markdown",
   "metadata": {},
   "source": [
    "## 2.6 NANDからコンピュータへ\n",
    "\n",
    "割愛"
   ]
  },
  {
   "cell_type": "code",
   "execution_count": null,
   "metadata": {},
   "outputs": [],
   "source": [
    ""
   ]
  }
 ],
 "metadata": {
  "kernelspec": {
   "display_name": "Python 2",
   "language": "python",
   "name": "python2"
  },
  "language_info": {
   "codemirror_mode": {
    "name": "ipython",
    "version": 2.0
   },
   "file_extension": ".py",
   "mimetype": "text/x-python",
   "name": "python",
   "nbconvert_exporter": "python",
   "pygments_lexer": "ipython2",
   "version": "2.7.6"
  }
 },
 "nbformat": 4,
 "nbformat_minor": 0
}